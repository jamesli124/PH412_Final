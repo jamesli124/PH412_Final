{
 "cells": [
  {
   "cell_type": "code",
   "execution_count": 6,
   "metadata": {
    "colab": {},
    "colab_type": "code",
    "id": "3jykIGa7UlM1"
   },
   "outputs": [],
   "source": [
    "import numpy as np\n",
    "import matplotlib.pyplot as plt\n",
    "from math import sqrt"
   ]
  },
  {
   "cell_type": "code",
   "execution_count": 15,
   "metadata": {
    "colab": {
     "base_uri": "https://localhost:8080/",
     "height": 34
    },
    "colab_type": "code",
    "id": "HXBO5r6kUp7x",
    "outputId": "62e6e840-7ba9-450d-de96-3ec5990c40e1"
   },
   "outputs": [
    {
     "name": "stdout",
     "output_type": "stream",
     "text": [
      "15336.802217935025 400000.0\n"
     ]
    },
    {
     "data": {
      "image/png": "[encoded data removed]",
      "text/plain": [
       "<Figure size 432x288 with 1 Axes>"
      ]
     },
     "metadata": {
      "needs_background": "light"
     },
     "output_type": "display_data"
    }
   ],
   "source": [
    "\n",
    "def func(apogee):\n",
    "    M = 5.972e24 #kg\n",
    "    G = 6.67408e-11 #m^3kg^-1s^-1\n",
    "    mu = G*M\n",
    "    rearth=6378000\n",
    "    rp = 400000+rearth \n",
    "    ra=apogee+rearth\n",
    "    return(2 * sqrt(mu/rp) * sqrt( ((2*ra)/(rp + ra)) -1) + 2*sqrt(mu*((2/ra)-(2/(ra+rp)))))\n",
    "\n",
    "best_deltv = 1e9 \n",
    "best_apogee = 1e9\n",
    "ra_list=[]\n",
    "deltav_list=[]\n",
    "\n",
    "for apogee in np.arange(rp, .929e9, 1000):\n",
    "    deltav=func(apogee)\n",
    "    if deltav < best_deltv:\n",
    "        best_deltv=deltav\n",
    "        best_apogee=apogee\n",
    "    ra_list.append(apogee)\n",
    "    deltav_list.append(deltav)\n",
    "    \n",
    "print(best_deltv,best_apogee)\n",
    "\n",
    "plt.plot(ra_list,deltav_list)\n",
    "plt.show()\n"
   ]
  },
  {
   "cell_type": "code",
   "execution_count": 17,
   "metadata": {
    "colab": {},
    "colab_type": "code",
    "id": "AiUPgFA_XE0m"
   },
   "outputs": [
    {
     "name": "stdout",
     "output_type": "stream",
     "text": [
      "15336.802217935025\n"
     ]
    }
   ],
   "source": [
    "print(func(400000))"
   ]
  },
  {
   "cell_type": "code",
   "execution_count": null,
   "metadata": {},
   "outputs": [],
   "source": []
  }
 ],
 "metadata": {
  "colab": {
   "name": "Equation_36_Optimizer.ipynb",
   "provenance": []
  },
  "kernelspec": {
   "display_name": "Python 3",
   "language": "python",
   "name": "python3"
  },
  "language_info": {
   "codemirror_mode": {
    "name": "ipython",
    "version": 3
   },
   "file_extension": ".py",
   "mimetype": "text/x-python",
   "name": "python",
   "nbconvert_exporter": "python",
   "pygments_lexer": "ipython3",
   "version": "3.7.4"
  }
 },
 "nbformat": 4,
 "nbformat_minor": 1
}
