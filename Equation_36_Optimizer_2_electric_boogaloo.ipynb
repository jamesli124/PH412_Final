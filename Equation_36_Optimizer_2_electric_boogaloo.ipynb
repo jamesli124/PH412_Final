{
 "cells": [
  {
   "cell_type": "code",
   "execution_count": 6,
   "metadata": {
    "colab": {},
    "colab_type": "code",
    "id": "3jykIGa7UlM1"
   },
   "outputs": [],
   "source": [
    "import numpy as np\n",
    "import matplotlib.pyplot as plt\n",
    "from math import sqrt"
   ]
  },
  {
   "cell_type": "code",
   "execution_count": 8,
   "metadata": {
    "colab": {
     "base_uri": "https://localhost:8080/",
     "height": 34
    },
    "colab_type": "code",
    "id": "HXBO5r6kUp7x",
    "outputId": "62e6e840-7ba9-450d-de96-3ec5990c40e1"
   },
   "outputs": [
    {
     "name": "stdout",
     "output_type": "stream",
     "text": [
      "63132.88030812471\n"
     ]
    },
    {
     "data": {
      "text/plain": [
       "[<matplotlib.lines.Line2D at 0x15121bde1c8>]"
      ]
     },
     "execution_count": 8,
     "metadata": {},
     "output_type": "execute_result"
    },
    {
     "data": {
      "image/png": "[encoded data removed]",
      "text/plain": [
       "<Figure size 432x288 with 1 Axes>"
      ]
     },
     "metadata": {
      "needs_background": "light"
     },
     "output_type": "display_data"
    }
   ],
   "source": [
    "M = 5.972e24\n",
    "G = 6.67408e-11\n",
    "mu = G*M\n",
    "\n",
    "\n",
    "rp = 400000  \n",
    "\n",
    "def func(ra):\n",
    "    return(2 * sqrt(mu/rp) * sqrt( ((2*ra)/(rp + ra)) -1) + 2*sqrt(mu*((2/ra)-(2/(ra+rp)))))\n",
    "\n",
    "best_deltv = 1e9 \n",
    "ra_list=[]\n",
    "deltav_list=[]\n",
    "\n",
    "for ra in np.arange(rp, .929e9, 1000):\n",
    "    deltav=func(ra)\n",
    "    if deltav < best_deltv:\n",
    "        best_deltv=func(ra)\n",
    "    ra_list.append(ra)\n",
    "    deltav_list.append(deltav)\n",
    "    \n",
    "print(best_deltv)\n",
    "\n",
    "plt.plot(ra_list,deltav_list)\n",
    "plt.show()\n"
   ]
  },
  {
   "cell_type": "code",
   "execution_count": 10,
   "metadata": {
    "colab": {},
    "colab_type": "code",
    "id": "AiUPgFA_XE0m"
   },
   "outputs": [
    {
     "name": "stdout",
     "output_type": "stream",
     "text": [
      "63132.88030812471\n",
      "63132.88030812471\n"
     ]
    }
   ],
   "source": [
    "print(func(400000))\n",
    "print(2*sqrt(mu/400000))"
   ]
  },
  {
   "cell_type": "code",
   "execution_count": null,
   "metadata": {},
   "outputs": [],
   "source": []
  }
 ],
 "metadata": {
  "colab": {
   "name": "Equation_36_Optimizer.ipynb",
   "provenance": []
  },
  "kernelspec": {
   "display_name": "Python 3",
   "language": "python",
   "name": "python3"
  },
  "language_info": {
   "codemirror_mode": {
    "name": "ipython",
    "version": 3
   },
   "file_extension": ".py",
   "mimetype": "text/x-python",
   "name": "python",
   "nbconvert_exporter": "python",
   "pygments_lexer": "ipython3",
   "version": "3.7.4"
  }
 },
 "nbformat": 4,
 "nbformat_minor": 1
}
