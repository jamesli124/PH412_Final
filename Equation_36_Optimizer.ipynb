{
  "nbformat": 4,
  "nbformat_minor": 0,
  "metadata": {
    "colab": {
      "name": "Equation_36_Optimizer.ipynb",
      "provenance": []
    },
    "kernelspec": {
      "name": "python3",
      "display_name": "Python 3"
    }
  },
  "cells": [
    {
      "cell_type": "code",
      "metadata": {
        "id": "3jykIGa7UlM1",
        "colab_type": "code",
        "colab": {}
      },
      "source": [
        "import numpy as np\n",
        "from math import sqrt"
      ],
      "execution_count": 0,
      "outputs": []
    },
    {
      "cell_type": "code",
      "metadata": {
        "id": "HXBO5r6kUp7x",
        "colab_type": "code",
        "colab": {
          "base_uri": "https://localhost:8080/",
          "height": 34
        },
        "outputId": "62e6e840-7ba9-450d-de96-3ec5990c40e1"
      },
      "source": [
        "M = 5.972e24\n",
        "G = 6.67408e-11\n",
        "mu = G*M\n",
        "\n",
        "\n",
        "rp = 400000  \n",
        "\n",
        "def func(ra):\n",
        "  return(2 * sqrt(mu/rp) * sqrt( ((2*ra)/(rp + ra)) -1) + 2*sqrt(mu*((2/ra)-(2/(ra+rp)))))\n",
        "\n",
        "deltv = 1e9 \n",
        "\n",
        "\n",
        "for ra in np.arange(rp, .929e9, 1000):\n",
        "  if func(ra) < deltv:\n",
        "    deltv=func(ra)\n",
        "print(deltv)\n",
        "\n"
      ],
      "execution_count": 13,
      "outputs": [
        {
          "output_type": "stream",
          "text": [
            "63132.88030812471\n"
          ],
          "name": "stdout"
        }
      ]
    },
    {
      "cell_type": "code",
      "metadata": {
        "id": "AiUPgFA_XE0m",
        "colab_type": "code",
        "colab": {}
      },
      "source": [
        ""
      ],
      "execution_count": 0,
      "outputs": []
    }
  ]
}